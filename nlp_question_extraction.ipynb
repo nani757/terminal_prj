{
  "nbformat": 4,
  "nbformat_minor": 0,
  "metadata": {
    "colab": {
      "provenance": []
    },
    "kernelspec": {
      "name": "python3",
      "display_name": "Python 3"
    },
    "language_info": {
      "name": "python"
    }
  },
  "cells": [
    {
      "cell_type": "code",
      "source": [
        "%pip install nltk\n",
        "import nltk\n",
        "nltk.download('punkt')\n",
        "nltk.download('averaged_perceptron_tagger')\n",
        "nltk.download('maxent_ne_chunker')\n",
        "nltk.download('words')"
      ],
      "metadata": {
        "colab": {
          "base_uri": "https://localhost:8080/"
        },
        "id": "BHROczxCuUT7",
        "outputId": "df3fd160-02ab-4957-be19-583f147ab25d"
      },
      "execution_count": 1,
      "outputs": [
        {
          "output_type": "stream",
          "name": "stdout",
          "text": [
            "Requirement already satisfied: nltk in /usr/local/lib/python3.10/dist-packages (3.8.1)\n",
            "Requirement already satisfied: click in /usr/local/lib/python3.10/dist-packages (from nltk) (8.1.7)\n",
            "Requirement already satisfied: joblib in /usr/local/lib/python3.10/dist-packages (from nltk) (1.3.2)\n",
            "Requirement already satisfied: regex>=2021.8.3 in /usr/local/lib/python3.10/dist-packages (from nltk) (2023.6.3)\n",
            "Requirement already satisfied: tqdm in /usr/local/lib/python3.10/dist-packages (from nltk) (4.66.1)\n"
          ]
        },
        {
          "output_type": "stream",
          "name": "stderr",
          "text": [
            "[nltk_data] Downloading package punkt to /root/nltk_data...\n",
            "[nltk_data]   Package punkt is already up-to-date!\n",
            "[nltk_data] Downloading package averaged_perceptron_tagger to\n",
            "[nltk_data]     /root/nltk_data...\n",
            "[nltk_data]   Package averaged_perceptron_tagger is already up-to-\n",
            "[nltk_data]       date!\n",
            "[nltk_data] Downloading package maxent_ne_chunker to\n",
            "[nltk_data]     /root/nltk_data...\n",
            "[nltk_data]   Package maxent_ne_chunker is already up-to-date!\n",
            "[nltk_data] Downloading package words to /root/nltk_data...\n",
            "[nltk_data]   Package words is already up-to-date!\n"
          ]
        },
        {
          "output_type": "execute_result",
          "data": {
            "text/plain": [
              "True"
            ]
          },
          "metadata": {},
          "execution_count": 1
        }
      ]
    },
    {
      "cell_type": "code",
      "execution_count": 6,
      "metadata": {
        "colab": {
          "base_uri": "https://localhost:8080/"
        },
        "id": "uUkP7oEOuPY_",
        "outputId": "533979f1-2d14-4489-ca64-43ef36b81ef5"
      },
      "outputs": [
        {
          "output_type": "stream",
          "name": "stdout",
          "text": [
            "['how', 'to', 'integract', 'app', 'url', 'of', 'my', 'chatbot', 'in', 'microsoft', 'teams', 'to', 'create', 'as', 'a', 'channel']\n"
          ]
        }
      ],
      "source": [
        "from nltk.tokenize import word_tokenize\n",
        "\n",
        "text = \"how to integract app url of my chatbot in microsoft teams to create as a channel\"\n",
        "tokens = word_tokenize(text)\n",
        "print(tokens)\n"
      ]
    },
    {
      "cell_type": "code",
      "source": [
        "from nltk import pos_tag\n",
        "\n",
        "pos_tags = pos_tag(tokens)\n",
        "print(pos_tags)\n"
      ],
      "metadata": {
        "colab": {
          "base_uri": "https://localhost:8080/"
        },
        "id": "Ygy2A6JJuRrc",
        "outputId": "99303cc8-962c-4465-c240-e087909900e0"
      },
      "execution_count": 7,
      "outputs": [
        {
          "output_type": "stream",
          "name": "stdout",
          "text": [
            "[('how', 'WRB'), ('to', 'TO'), ('integract', 'VB'), ('app', 'JJ'), ('url', 'NN'), ('of', 'IN'), ('my', 'PRP$'), ('chatbot', 'NN'), ('in', 'IN'), ('microsoft', 'JJ'), ('teams', 'NNS'), ('to', 'TO'), ('create', 'VB'), ('as', 'IN'), ('a', 'DT'), ('channel', 'NN')]\n"
          ]
        }
      ]
    },
    {
      "cell_type": "code",
      "source": [
        "from nltk import ne_chunk\n",
        "\n",
        "named_entities = ne_chunk(pos_tags)\n",
        "print(named_entities)\n"
      ],
      "metadata": {
        "colab": {
          "base_uri": "https://localhost:8080/"
        },
        "id": "2AMaEpAyu8ey",
        "outputId": "53af7a30-b68c-47f3-e2fd-dddfd1b52000"
      },
      "execution_count": 8,
      "outputs": [
        {
          "output_type": "stream",
          "name": "stdout",
          "text": [
            "(S\n",
            "  how/WRB\n",
            "  to/TO\n",
            "  integract/VB\n",
            "  app/JJ\n",
            "  url/NN\n",
            "  of/IN\n",
            "  my/PRP$\n",
            "  chatbot/NN\n",
            "  in/IN\n",
            "  microsoft/JJ\n",
            "  teams/NNS\n",
            "  to/TO\n",
            "  create/VB\n",
            "  as/IN\n",
            "  a/DT\n",
            "  channel/NN)\n"
          ]
        }
      ]
    },
    {
      "cell_type": "code",
      "source": [
        "\n",
        "from gensim import corpora, models\n",
        "\n",
        "dictionary = corpora.Dictionary([tokens])\n",
        "corpus = [dictionary.doc2bow(text) for text in [tokens]]\n",
        "lda_model = models.LdaModel(corpus, num_topics=1, id2word=dictionary)\n",
        "topics = lda_model.print_topics()\n",
        "print(topics)\n"
      ],
      "metadata": {
        "colab": {
          "base_uri": "https://localhost:8080/"
        },
        "id": "gYQAgpFFvHKY",
        "outputId": "27156e1f-e6c5-412f-eb1c-a0b9103d41ac"
      },
      "execution_count": 9,
      "outputs": [
        {
          "output_type": "stream",
          "name": "stderr",
          "text": [
            "WARNING:gensim.models.ldamodel:too few updates, training might not converge; consider increasing the number of passes or iterations to improve accuracy\n"
          ]
        },
        {
          "output_type": "stream",
          "name": "stdout",
          "text": [
            "[(0, '0.097*\"to\" + 0.065*\"url\" + 0.065*\"channel\" + 0.065*\"create\" + 0.065*\"app\" + 0.065*\"teams\" + 0.065*\"of\" + 0.065*\"as\" + 0.065*\"how\" + 0.065*\"microsoft\"')]\n"
          ]
        }
      ]
    },
    {
      "cell_type": "code",
      "source": [],
      "metadata": {
        "id": "SDdv4ycVvXVc"
      },
      "execution_count": 9,
      "outputs": []
    }
  ]
}